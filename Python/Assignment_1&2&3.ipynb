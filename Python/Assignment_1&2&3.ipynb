{
 "cells": [
  {
   "cell_type": "code",
   "execution_count": 1,
   "id": "e37a9479-9cb2-4468-a82d-7b7235879a53",
   "metadata": {},
   "outputs": [
    {
     "name": "stdout",
     "output_type": "stream",
     "text": [
      "HOPE AI\n"
     ]
    }
   ],
   "source": [
    "# print Statement\n",
    "print(\"HOPE AI\")"
   ]
  },
  {
   "cell_type": "code",
   "execution_count": 6,
   "id": "fff4f865-a46d-44ab-a179-e1ce27efb14c",
   "metadata": {},
   "outputs": [
    {
     "name": "stdout",
     "output_type": "stream",
     "text": [
      "Enter your institute name? :HOPE AI\n"
     ]
    }
   ],
   "source": [
    "Institute_Name = \"HOPE AI\"\n",
    "print(f\"Enter your institute name? :{Institute_Name}\")"
   ]
  },
  {
   "cell_type": "code",
   "execution_count": 3,
   "id": "da098f10-aae3-416b-ac0c-0e15cb72b649",
   "metadata": {},
   "outputs": [
    {
     "name": "stdout",
     "output_type": "stream",
     "text": [
      "Enter your institute name? : HOPE AI\n"
     ]
    }
   ],
   "source": [
    "print(\"Enter your institute name? : HOPE AI\")"
   ]
  },
  {
   "cell_type": "code",
   "execution_count": 7,
   "id": "e1c78565-6372-41ac-a308-cbcaf7d4b7f8",
   "metadata": {},
   "outputs": [
    {
     "name": "stdin",
     "output_type": "stream",
     "text": [
      "Enter your name:  Raj\n",
      "Enter your age:  15\n",
      "Enter your school name:  Guru school\n",
      "Enter your degree:  B.E CSE\n"
     ]
    }
   ],
   "source": [
    "name = input(\"Enter your name: \")\n",
    "age = input(\"Enter your age: \")\n",
    "school = input(\"Enter your school name: \")\n",
    "degree = input(\"Enter your degree: \")"
   ]
  },
  {
   "cell_type": "code",
   "execution_count": 8,
   "id": "289b4496-e08f-47ec-8873-0e1b7ea077d4",
   "metadata": {},
   "outputs": [
    {
     "name": "stdin",
     "output_type": "stream",
     "text": [
      "a= 43\n",
      "b= 34\n"
     ]
    },
    {
     "name": "stdout",
     "output_type": "stream",
     "text": [
      "add= 77\n"
     ]
    }
   ],
   "source": [
    "A= int(input(\"a=\"))\n",
    "B= int(input(\"b=\"))\n",
    "Add=int(A+B)\n",
    "print(\"add=\",Add)\n",
    "       "
   ]
  },
  {
   "cell_type": "code",
   "execution_count": 10,
   "id": "6c27dc76-e6c6-43b7-9920-4ba667f1e84e",
   "metadata": {},
   "outputs": [
    {
     "name": "stdin",
     "output_type": "stream",
     "text": [
      "a= 76\n",
      "b= 31\n"
     ]
    },
    {
     "name": "stdout",
     "output_type": "stream",
     "text": [
      "Float Div= 2\n"
     ]
    }
   ],
   "source": [
    "#Division\n",
    "A= int(input(\"a=\"))\n",
    "B= int(input(\"b=\"))\n",
    "div=float(A/B)\n",
    "print(\"Float Div=\",div)"
   ]
  },
  {
   "cell_type": "code",
   "execution_count": 12,
   "id": "cf36c12b-e224-40ef-b337-0687359333a5",
   "metadata": {},
   "outputs": [
    {
     "name": "stdin",
     "output_type": "stream",
     "text": [
      "a= 76\n",
      "b= 31\n"
     ]
    },
    {
     "name": "stdout",
     "output_type": "stream",
     "text": [
      "Floor Div= 2\n"
     ]
    }
   ],
   "source": [
    "#### floor Division\n",
    "A= int(input(\"a=\"))\n",
    "B= int(input(\"b=\"))\n",
    "div=int(A/B)\n",
    "print(\"Floor Div=\",div)\n"
   ]
  },
  {
   "cell_type": "code",
   "execution_count": 13,
   "id": "20753fb0-2d31-4a00-8c45-eb8aa838eb70",
   "metadata": {},
   "outputs": [
    {
     "name": "stdin",
     "output_type": "stream",
     "text": [
      "a= 76\n",
      "b= 31\n"
     ]
    },
    {
     "name": "stdout",
     "output_type": "stream",
     "text": [
      "Modulo= 14\n"
     ]
    }
   ],
   "source": [
    "#modulo\n",
    "A= int(input(\"a=\"))\n",
    "B= int(input(\"b=\"))\n",
    "modulo=int(A%B)\n",
    "print(\"Modulo=\",modulo)\n"
   ]
  },
  {
   "cell_type": "code",
   "execution_count": 14,
   "id": "04840ff0-c510-4161-af6a-65050d379e2b",
   "metadata": {},
   "outputs": [
    {
     "data": {
      "text/plain": [
       "range(0, 20)"
      ]
     },
     "execution_count": 14,
     "metadata": {},
     "output_type": "execute_result"
    }
   ],
   "source": [
    "# print 0 to 20 by using range\n",
    "range(0,20)"
   ]
  },
  {
   "cell_type": "code",
   "execution_count": 15,
   "id": "0a76b3a5-a260-4b3e-9ac5-453b7756db8c",
   "metadata": {},
   "outputs": [
    {
     "name": "stdout",
     "output_type": "stream",
     "text": [
      "0\n",
      "1\n",
      "2\n",
      "3\n",
      "4\n",
      "5\n",
      "6\n",
      "7\n",
      "8\n",
      "9\n",
      "10\n",
      "11\n",
      "12\n",
      "13\n",
      "14\n",
      "15\n",
      "16\n",
      "17\n",
      "18\n",
      "19\n"
     ]
    }
   ],
   "source": [
    "for num in range(0,20):\n",
    "    print(num)"
   ]
  },
  {
   "cell_type": "code",
   "execution_count": 20,
   "id": "fe068c51-e7be-410a-ba61-5c587e4ea28a",
   "metadata": {},
   "outputs": [
    {
     "name": "stdout",
     "output_type": "stream",
     "text": [
      "[10, 20, 14, 55, 43, 87, 76]\n",
      "Number of item in the List2: 7\n"
     ]
    }
   ],
   "source": [
    "n=[10, 20, 14, 55, 43, 87, 76]\n",
    "print(n)\n",
    "list = len(n)\n",
    "print(\"Number of item in the List2:\",list)"
   ]
  },
  {
   "cell_type": "code",
   "execution_count": 24,
   "id": "06c0d83c-99c1-4ce9-884b-05e0ac0efeb1",
   "metadata": {},
   "outputs": [
    {
     "name": "stdout",
     "output_type": "stream",
     "text": [
      "Artificial Intelligence\n",
      "A\n",
      "r\n",
      "t\n",
      "i\n",
      "f\n",
      "i\n",
      "c\n",
      "i\n",
      "a\n",
      "l\n",
      " \n",
      "I\n",
      "n\n",
      "t\n",
      "e\n",
      "l\n",
      "l\n",
      "i\n",
      "g\n",
      "e\n",
      "n\n",
      "c\n",
      "e\n"
     ]
    }
   ],
   "source": [
    "Title = \"Artificial Intelligence\"\n",
    "print(Title)\n",
    "\n",
    "for letter in Title:\n",
    "    print(letter)"
   ]
  },
  {
   "cell_type": "code",
   "execution_count": 28,
   "id": "39bafc5b-392f-424f-b402-e1815f7de6ef",
   "metadata": {},
   "outputs": [
    {
     "name": "stdout",
     "output_type": "stream",
     "text": [
      "(1, 'Welcome', 2, 'Hope')\n"
     ]
    }
   ],
   "source": [
    "list = (1, 'Welcome', 2, 'Hope')\n",
    "print(list[0:4])"
   ]
  },
  {
   "cell_type": "code",
   "execution_count": 32,
   "id": "bc48c2e4-c2f2-46db-9e30-5dab9fca0c02",
   "metadata": {},
   "outputs": [
    {
     "name": "stdout",
     "output_type": "stream",
     "text": [
      "20 is even\n",
      "10 is even\n",
      "16 is even\n",
      "276 is even\n",
      "188 is even\n"
     ]
    }
   ],
   "source": [
    "numbers=(20,10,16,19,25,1,276,188)\n",
    "for n in numbers:\n",
    "    if n % 2 == 0:\n",
    "        print(f\"{n} is even\")\n",
    "\n",
    "    "
   ]
  },
  {
   "cell_type": "code",
   "execution_count": 36,
   "id": "23035ccf-3b79-4a3d-962e-bad40140123e",
   "metadata": {},
   "outputs": [
    {
     "name": "stdout",
     "output_type": "stream",
     "text": [
      "19 is odd\n",
      "25 is odd\n",
      "1 is odd\n"
     ]
    }
   ],
   "source": [
    "numbers=(20,10,16,19,25,1,276,188)\n",
    "for n in numbers:\n",
    "    if n % 2 != 0:\n",
    "        print(f\"{n} is odd\")"
   ]
  },
  {
   "cell_type": "code",
   "execution_count": 38,
   "id": "c0e0f79a-6f97-4413-bdc5-85ac73184292",
   "metadata": {},
   "outputs": [
    {
     "name": "stdin",
     "output_type": "stream",
     "text": [
      "value: 10\n"
     ]
    },
    {
     "name": "stdout",
     "output_type": "stream",
     "text": [
      "correct\n"
     ]
    }
   ],
   "source": [
    "i=int(input(\"value:\"))\n",
    "if i==10:\n",
    "    print(\"correct\")\n",
    "           "
   ]
  },
  {
   "cell_type": "code",
   "execution_count": 40,
   "id": "a5503aa7-409f-42f6-b992-7c259db43a96",
   "metadata": {},
   "outputs": [
    {
     "name": "stdin",
     "output_type": "stream",
     "text": [
      "Enter the password: fgh\n"
     ]
    },
    {
     "name": "stdout",
     "output_type": "stream",
     "text": [
      "Enter the right password\n"
     ]
    }
   ],
   "source": [
    "password =input(\"Enter the password:\")\n",
    "if password=='HOPE@123':\n",
    "    print(\"Your password is correct\")\n",
    "else:\n",
    "    print(\"Enter the right password\")"
   ]
  },
  {
   "cell_type": "code",
   "execution_count": 47,
   "id": "6c514ed0-238d-4033-90e3-e6e8f40793c2",
   "metadata": {},
   "outputs": [
    {
     "name": "stdin",
     "output_type": "stream",
     "text": [
      "Enter the age:  20\n"
     ]
    },
    {
     "name": "stdout",
     "output_type": "stream",
     "text": [
      "Adult\n"
     ]
    }
   ],
   "source": [
    "try:\n",
    "    age = int(input(\"Enter the age: \"))\n",
    "\n",
    "    if age <= 0:\n",
    "        print(\"Invalid age\")\n",
    "    elif age in range(1, 13):\n",
    "        print(\"Child\")\n",
    "    elif age in range(13, 18):\n",
    "        print(\"Teenager\")\n",
    "    elif age in range(18, 58):\n",
    "        print(\"Adult\")\n",
    "    elif age in range(58, 100):\n",
    "        print(\"Senior Citizen\")\n",
    "    elif age >= 100:\n",
    "        print(\"Super Senior\")\n",
    "    else:\n",
    "        print(\"Invalid input\")\n",
    "\n",
    "except ValueError:\n",
    "    print(\"Please enter a valid number\")"
   ]
  },
  {
   "cell_type": "code",
   "execution_count": 52,
   "id": "30bb599b-35c9-453e-9a71-aadff5a52c6b",
   "metadata": {},
   "outputs": [
    {
     "name": "stdin",
     "output_type": "stream",
     "text": [
      "Enter the number: 5gt\n"
     ]
    },
    {
     "name": "stdout",
     "output_type": "stream",
     "text": [
      "Enter the whole number.\n"
     ]
    }
   ],
   "source": [
    "try:\n",
    "    n=int(input(\"Enter the number:\"))\n",
    "    if n >= 0:\n",
    "        print(\"The number is positive\")\n",
    "    else:\n",
    "        print(\"The number is Negative\")\n",
    "except ValueError:\n",
    "    print(\"Enter the whole number.\")\n",
    "          \n",
    "          "
   ]
  },
  {
   "cell_type": "code",
   "execution_count": 54,
   "id": "c13e8cf0-c2bb-465b-b908-fc3b1af151bc",
   "metadata": {},
   "outputs": [
    {
     "name": "stdin",
     "output_type": "stream",
     "text": [
      "Enter the number: 10\n"
     ]
    },
    {
     "name": "stdout",
     "output_type": "stream",
     "text": [
      "The given number is divisible by 5\n"
     ]
    }
   ],
   "source": [
    "number=int(input(\"Enter the number:\"))\n",
    "if number%5==0:\n",
    "    print(\"The given number is divisible by 5\")\n",
    "else:\n",
    "    print(\"The given number is not divisible by 5\")"
   ]
  },
  {
   "cell_type": "code",
   "execution_count": 61,
   "id": "f0738900-9bd2-4054-8533-be1a2a6c7149",
   "metadata": {},
   "outputs": [
    {
     "name": "stdout",
     "output_type": "stream",
     "text": [
      "the result of a,b = 5\n"
     ]
    }
   ],
   "source": [
    "def add(a,b):\n",
    "    addition = a+b\n",
    "    return addition\n",
    "result = add(2,3)\n",
    "print(\"the result of a,b =\",result)\n",
    "    "
   ]
  },
  {
   "cell_type": "code",
   "execution_count": 73,
   "id": "3aebae59-0333-4b27-a16f-25adf4408671",
   "metadata": {},
   "outputs": [
    {
     "name": "stdout",
     "output_type": "stream",
     "text": [
      "5 is a Child\n",
      "23 is an Adult\n",
      "56 is an Adult\n",
      "90 is an Adult\n"
     ]
    }
   ],
   "source": [
    "\n",
    "age_list = [5, 23, 56, 90]\n",
    "\n",
    "def age_category():\n",
    "    for age in age_list:\n",
    "        if age < 18:\n",
    "            print(f\"{age} is a Child\")\n",
    "        else:\n",
    "            print(f\"{age} is an Adult\")\n",
    "\n",
    "age_category()\n",
    "           \n",
    "        \n",
    "\n",
    "            \n",
    "    "
   ]
  },
  {
   "cell_type": "code",
   "execution_count": 78,
   "id": "7e913034-9aac-4744-8c28-9b862463ca6c",
   "metadata": {},
   "outputs": [
    {
     "name": "stdout",
     "output_type": "stream",
     "text": [
      "The age categories are: ['Child', 'Adult', 'Adult', 'Adult', 'Senior Citizen']\n"
     ]
    }
   ],
   "source": [
    "age_list = [5, 23, 56, 90, 160]\n",
    "\n",
    "def age_category():\n",
    "    result = []\n",
    "    for age in age_list:\n",
    "        if age < 18:\n",
    "            result.append(\"Child\")\n",
    "        elif age >= 100:\n",
    "            result.append(\"Senior Citizen\")\n",
    "        else:\n",
    "            result.append(\"Adult\")\n",
    "    return result\n",
    "\n",
    "print(\"The age categories are:\", age_category())\n",
    "\n"
   ]
  },
  {
   "cell_type": "code",
   "execution_count": 87,
   "id": "7d385598-6068-4c4b-9648-1dede4e35594",
   "metadata": {},
   "outputs": [
    {
     "name": "stdin",
     "output_type": "stream",
     "text": [
      "Enter the number list (comma separated):  45,67,12,34,67,89,34,80 \n"
     ]
    },
    {
     "name": "stdout",
     "output_type": "stream",
     "text": [
      "Even/Odd classification: ['odd', 'odd', 'even', 'even', 'odd', 'odd', 'even', 'even']\n"
     ]
    }
   ],
   "source": [
    "def num_category(num_list):\n",
    "    result=[]\n",
    "    for num in num_list:\n",
    "        if num%2==0:\n",
    "            result.append(\"even\")\n",
    "        else:\n",
    "            result.append(\"odd\")\n",
    "    return result\n",
    "\n",
    "number_input = input(\"Enter the number list (comma separated): \")\n",
    "number_list = [int(n.strip()) for n in number_input.split(',')]\n",
    "\n",
    "print(\"Even/Odd classification:\", num_category(number_list))\n",
    "                 "
   ]
  },
  {
   "cell_type": "code",
   "execution_count": 90,
   "id": "622521d9-6247-455b-b401-ce8b1f5721ca",
   "metadata": {},
   "outputs": [
    {
     "name": "stdout",
     "output_type": "stream",
     "text": [
      "Sub-fields in AI are:\n",
      "1. Machine Learning\n",
      "2. Neural Networks\n",
      "3. Vision\n",
      "4. Robotics\n",
      "5. Speech Processing\n",
      "6. Natural Language Processing\n"
     ]
    }
   ],
   "source": [
    "#class SubfieldsInAI:\n",
    "def Subfields():\n",
    "        print(\"Sub-fields in AI are:\")\n",
    "        print(\"1. Machine Learning\")\n",
    "        print(\"2. Neural Networks\")\n",
    "        print(\"3. Vision\")\n",
    "        print(\"4. Robotics\")\n",
    "        print(\"5. Speech Processing\")\n",
    "        print(\"6. Natural Language Processing\")\n",
    "\n",
    "# Call the function\n",
    "Subfields()\n",
    "\n"
   ]
  },
  {
   "cell_type": "code",
   "execution_count": 94,
   "id": "0db35013-94a3-4842-8b46-abbdd1a8ccbf",
   "metadata": {},
   "outputs": [
    {
     "name": "stdin",
     "output_type": "stream",
     "text": [
      "Enter a number: 78\n"
     ]
    },
    {
     "name": "stdout",
     "output_type": "stream",
     "text": [
      "78 is Even\n"
     ]
    }
   ],
   "source": [
    "class OddEven:\n",
    "  def OddEven(i):\n",
    "    if i % 2 == 0:\n",
    "        return f\"{i} is Even\"\n",
    "    else:\n",
    "        return f\"{i} is odd\"\n",
    "\n",
    "number = int(input(\"Enter a number:\"))\n",
    "result= OddEven.OddEven(number)\n",
    "print(result)\n",
    "\n",
    "       \n",
    "\n",
    "#Enter a number: 52452\n",
    "#52452 is Even number"
   ]
  },
  {
   "cell_type": "code",
   "execution_count": 99,
   "id": "541d6183-f03e-4c85-9c23-ed34a9698e66",
   "metadata": {},
   "outputs": [
    {
     "name": "stdin",
     "output_type": "stream",
     "text": [
      "Enter your gender (male/female):  Male\n",
      "Enter your age : 34\n"
     ]
    },
    {
     "name": "stdout",
     "output_type": "stream",
     "text": [
      "Elegible for marriage\n"
     ]
    }
   ],
   "source": [
    "# Create a function that tells elegibility of marriage for male and female according to their age limit like 21 for male and 18 for femalclass ElegiblityForMarriage:\n",
    "class ElegiblityForMarriage:   \n",
    " def Elegible(gender, age):\n",
    "        gender = gender.lower()\n",
    "        if gender == 'male':\n",
    "            if age >= 21:\n",
    "                return \"Elegible for marriage\"\n",
    "            else:\n",
    "                return \"Not elgible for marriage\"\n",
    "        elif gender == 'female':\n",
    "            if age >= 18:\n",
    "                return \"Eligible for marriage\"\n",
    "            else:\n",
    "                return \"Not Eligible for marriage\"\n",
    "                \n",
    "gender = input(\"Enter your gender (male/female): \")\n",
    "age = int(input(\"Enter your age :\"))     \n",
    "result = ElegiblityForMarriage.Elegible(gender, age)\n",
    "print(result)"
   ]
  },
  {
   "cell_type": "code",
   "execution_count": 110,
   "id": "971fbb00-ccde-40df-95ae-7c84fb9c3512",
   "metadata": {},
   "outputs": [
    {
     "name": "stdout",
     "output_type": "stream",
     "text": [
      "sunject wise marks:\n",
      "Tamil : 96\n",
      "English : 77\n",
      "Maths : 99\n",
      "science : 92\n",
      "socialscience : 98\n",
      "total marks:462\n",
      "Percentage: 92.40%\n"
     ]
    }
   ],
   "source": [
    "#calculate the percentage of your 10th mark\n",
    "class FindPercent:\n",
    "    def percentage():\n",
    "        vidhya_total_marks= { 'Tamil':96 , 'English':77, 'Maths':99 ,'science':92, 'socialscience':98}\n",
    "        \n",
    "        total = sum(vidhya_total_marks.values())\n",
    "        max_total = (total/len(vidhya_total_marks))*100\n",
    "        percentage = max_total/100\n",
    "\n",
    "        print(\"sunject wise marks:\")\n",
    "        for sub, mark in vidhya_total_marks.items():\n",
    "              print(f\"{sub} : {mark}\")\n",
    "        print(f\"total marks:{total}\")    \n",
    "        print(f\"Percentage: {percentage:.2f}%\")\n",
    "\n",
    "FindPercent.percentage()                 \n"
   ]
  },
  {
   "cell_type": "code",
   "execution_count": 131,
   "id": "7b204919-0948-4b92-a2f4-2b1b36ccaf68",
   "metadata": {},
   "outputs": [
    {
     "name": "stdin",
     "output_type": "stream",
     "text": [
      "Enter the list of perameters: 3, 4, 5, 6, 8\n"
     ]
    },
    {
     "name": "stdout",
     "output_type": "stream",
     "text": [
      "Area of triangle: 24.0\n",
      "Perimeter of triangle: 12\n"
     ]
    }
   ],
   "source": [
    "class Triangle:\n",
    "    def __init__(self, a, b, c, height, base):\n",
    "        self.a = a\n",
    "        self.b = b\n",
    "        self.c = c\n",
    "        self.height = height\n",
    "        self.base = base\n",
    "\n",
    "    def area(self):\n",
    "        return (self.height * self.base) / 2\n",
    "\n",
    "    def perimeter(self):\n",
    "        return self.a + self.b + self.c\n",
    "t=input(\"Enter the list of perameters:\")\n",
    "item= [int(n.strip()) for n in t.split(',')]\n",
    "size = Triangle(*item)\n",
    "print(\"Area of triangle:\", size.area())\n",
    "print(\"Perimeter of triangle:\", size.perimeter())\n"
   ]
  },
  {
   "cell_type": "code",
   "execution_count": null,
   "id": "3e36abde-532d-44fa-82b2-552a542f6b49",
   "metadata": {},
   "outputs": [],
   "source": []
  },
  {
   "cell_type": "code",
   "execution_count": null,
   "id": "a28e362a-a02d-4b75-b02d-0a0209a1dc50",
   "metadata": {},
   "outputs": [],
   "source": []
  }
 ],
 "metadata": {
  "kernelspec": {
   "display_name": "Python 3 (ipykernel)",
   "language": "python",
   "name": "python3"
  },
  "language_info": {
   "codemirror_mode": {
    "name": "ipython",
    "version": 3
   },
   "file_extension": ".py",
   "mimetype": "text/x-python",
   "name": "python",
   "nbconvert_exporter": "python",
   "pygments_lexer": "ipython3",
   "version": "3.12.1"
  }
 },
 "nbformat": 4,
 "nbformat_minor": 5
}
