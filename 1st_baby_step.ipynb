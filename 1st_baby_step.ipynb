{
 "cells": [
  {
   "cell_type": "code",
   "execution_count": 1,
   "id": "50fdc568-e6e5-4dea-a539-71b197010f89",
   "metadata": {},
   "outputs": [
    {
     "name": "stdout",
     "output_type": "stream",
     "text": [
      "Welcome to Assignment-1\n"
     ]
    }
   ],
   "source": [
    "print(\"Welcome to Assignment-1\")\n"
   ]
  },
  {
   "cell_type": "code",
   "execution_count": 2,
   "id": "963ea0b4-406d-444c-a2e5-a803fdd03515",
   "metadata": {},
   "outputs": [
    {
     "name": "stdin",
     "output_type": "stream",
     "text": [
      "Num1=  10\n",
      "Num2=  30\n"
     ]
    },
    {
     "name": "stdout",
     "output_type": "stream",
     "text": [
      "Add= 40\n"
     ]
    }
   ],
   "source": [
    "### Num1 = int(input(\"Num1= \"))\n",
    "Num2 = int(input(\"Num2= \"))\n",
    "Addition = int(Num1 + Num2)\n",
    "print(\"Add=\", Addition)\n"
   ]
  },
  {
   "cell_type": "code",
   "execution_count": 3,
   "id": "99e66665-a95e-4afe-993b-9c55e65cd49c",
   "metadata": {},
   "outputs": [
    {
     "name": "stdin",
     "output_type": "stream",
     "text": [
      "Enter the BMI Index:  37\n"
     ]
    },
    {
     "name": "stdout",
     "output_type": "stream",
     "text": [
      "Very Overweight\n"
     ]
    }
   ],
   "source": [
    "# Body Mass Index\n",
    "bmi = float(input(\"Enter the BMI Index: \"))\n",
    "if bmi < 18.5:\n",
    "    print(\"Underweight\")\n",
    "elif bmi < 25:\n",
    "    print(\"Normal weight\")\n",
    "elif bmi < 30:\n",
    "    print(\"Overweight\")\n",
    "else:\n",
    "    print(\"Very Overweight\")\n"
   ]
  },
  {
   "cell_type": "code",
   "execution_count": null,
   "id": "9667cf68-883f-4f87-ba5f-ba866c1e9a6d",
   "metadata": {},
   "outputs": [],
   "source": []
  }
 ],
 "metadata": {
  "kernelspec": {
   "display_name": "Python 3 (ipykernel)",
   "language": "python",
   "name": "python3"
  },
  "language_info": {
   "codemirror_mode": {
    "name": "ipython",
    "version": 3
   },
   "file_extension": ".py",
   "mimetype": "text/x-python",
   "name": "python",
   "nbconvert_exporter": "python",
   "pygments_lexer": "ipython3",
   "version": "3.12.1"
  }
 },
 "nbformat": 4,
 "nbformat_minor": 5
}
